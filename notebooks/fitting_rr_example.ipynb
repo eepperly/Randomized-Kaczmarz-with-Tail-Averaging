{
 "cells": [
  {
   "cell_type": "code",
   "execution_count": 1,
   "id": "5f8391a4-4523-408e-889e-5e38d2571766",
   "metadata": {},
   "outputs": [],
   "source": [
    "#!/usr/bin/env python\n",
    "import numpy as np\n",
    "import sys\n",
    "sys.path.append('../')\n",
    "from tark import tark, rk, mylstsq"
   ]
  },
  {
   "cell_type": "code",
   "execution_count": 2,
   "id": "10967a20-5490-443d-a0c2-3cc61755f818",
   "metadata": {},
   "outputs": [],
   "source": [
    "# Set parameters\n",
    "n = 1000000\n",
    "d = 25\n",
    "num_steps = n\n",
    "burn_in = 1000\n",
    "num_threads = 10\n",
    "mu = 0.999"
   ]
  },
  {
   "cell_type": "code",
   "execution_count": 3,
   "id": "47d3d529-6489-45a5-bfaa-066223c284e6",
   "metadata": {},
   "outputs": [
    {
     "name": "stdout",
     "output_type": "stream",
     "text": [
      "Condition number of A is 577067362.5239332\n"
     ]
    }
   ],
   "source": [
    "# Define regression problem\n",
    "f = lambda y: np.sin(np.pi * y) * np.exp(-2 * y) + np.cos(4 * np.pi * y)\n",
    "pts = np.linspace(-1,1,num=n)\n",
    "kk = np.arange(d)\n",
    "A = pts[:,np.newaxis] ** kk[np.newaxis,:]\n",
    "b = f(pts) + 0.2 * np.random.randn(n)\n",
    "lamb = (1 - mu) / mu * np.linalg.norm(A, 'fro')**2\n",
    "A_aug = np.vstack([A, np.sqrt(lamb) * np.identity(d)])\n",
    "b_aug = np.concatenate([b, np.zeros(d)])\n",
    "_, S, _ = np.linalg.svd(A, full_matrices=False)\n",
    "print(\"Condition number of A is {}\".format(max(S)/min(S)))"
   ]
  },
  {
   "cell_type": "code",
   "execution_count": 4,
   "id": "c5f439a0-bc65-43d2-b38b-3a12808c4748",
   "metadata": {},
   "outputs": [],
   "source": [
    "# Compute true solutions\n",
    "x = mylstsq(A, b)\n",
    "x_mu = mylstsq(A, b, lamb=lamb)"
   ]
  },
  {
   "cell_type": "code",
   "execution_count": 5,
   "id": "2dac4437-df12-4b3f-a15e-af6095cc3550",
   "metadata": {},
   "outputs": [
    {
     "name": "stderr",
     "output_type": "stream",
     "text": [
      "100%|████████████████████████████████| 1000000/1000000 [00:06<00:00, 148975.06it/s]\n",
      "100%|████████████████████████████████| 1000000/1000000 [00:05<00:00, 189861.08it/s]\n",
      "100%|████████████████████████████████| 1000000/1000000 [00:05<00:00, 195052.19it/s]\n",
      "100%|████████████████████████████████| 1000000/1000000 [00:06<00:00, 157204.50it/s]\n",
      "100%|████████████████████████████████| 1000000/1000000 [00:05<00:00, 168534.82it/s]\n",
      "100%|████████████████████████████████| 1000000/1000000 [00:07<00:00, 129756.70it/s]\n"
     ]
    }
   ],
   "source": [
    "# Run RK methods\n",
    "tark_history = tark(A, b=b, num_steps=num_steps, burn_in=burn_in, output_history=True)\n",
    "rk_history = rk(A, b=b, num_steps=num_steps, output_history=True)\n",
    "\n",
    "drk_history = rk(A, b=b, num_steps=num_steps, mu_reg=mu, dual=True, output_history=True)\n",
    "tark_aug_history = tark(A_aug, b=b_aug, num_steps=num_steps, burn_in=burn_in, output_history=True)\n",
    "rk_rr_history = rk(A, b=b, num_steps=num_steps, mu_reg=mu, output_history=True)\n",
    "tark_rr_history = tark(A, b=b, num_steps=num_steps, mu_reg=mu, burn_in=burn_in, output_history=True)"
   ]
  },
  {
   "cell_type": "code",
   "execution_count": 6,
   "id": "c9179e4f-8e10-4fac-aa02-25dc3773dd8e",
   "metadata": {},
   "outputs": [],
   "source": [
    "# Set matplotlib parameters\n",
    "import matplotlib.pyplot as plt\n",
    "plt.rcParams.update({\n",
    "    \"text.usetex\": True,\n",
    "    \"font.family\": \"serif\",\n",
    "    \"font.serif\": [\"Computer Modern\"],\n",
    "    \"text.latex.preamble\": r\"\\usepackage{amsmath}\"  # Ensure amsmath is included\n",
    "})\n",
    "plt.rcParams.update({'font.size': 20})\n",
    "rkcolor = \"#648FFF\"\n",
    "rkacolor = \"#785EF0\"\n",
    "rkucolor = \"#DC267F\"\n",
    "tarkcolor = \"#FE6100\""
   ]
  },
  {
   "cell_type": "code",
   "execution_count": null,
   "id": "076c367e-5bed-4643-9177-bb7fc0f5afc3",
   "metadata": {},
   "outputs": [],
   "source": [
    "# Plot\n",
    "fig, (ax1, ax2) = plt.subplots(1, 2, sharey=True, figsize=(15, 5))  # Adjust figsize as needed\n",
    "x_ticks = [10**0, 10**2, 10**4, 10**6]\n",
    "\n",
    "# First subplot\n",
    "ax1.plot(range(1, num_steps+1), [np.linalg.norm(xx - x) / np.linalg.norm(x) for xx in rk_history], label=\"RK\", color=rkcolor, linestyle=\"dotted\", linewidth=2)\n",
    "ax1.plot(range(burn_in+1, num_steps+1), [np.linalg.norm(xx - x) / np.linalg.norm(x) for xx in tark_history[burn_in:]], label=\"TARK\", color=tarkcolor, linewidth=2)\n",
    "ax1.set_xscale(\"log\")\n",
    "ax1.set_yscale(\"log\")\n",
    "ax1.set_xticks(x_ticks)\n",
    "ax1.set_xlabel(\"Rows Accessed\")\n",
    "ax1.set_ylabel(r\"$\\|\\boldsymbol{x}-\\boldsymbol{x}_\\star\\| / \\|\\boldsymbol{x}_\\star\\|$\")\n",
    "ax1.legend()\n",
    "\n",
    "# Second subplot\n",
    "ax2.plot(range(1, num_steps+1), [np.linalg.norm(xx - x_mu) / np.linalg.norm(x_mu) for xx in rk_rr_history], label=\"RK-RR\", color=rkacolor, linestyle=\"dotted\", linewidth=2)\n",
    "ax2.plot(range(1, num_steps+1), [np.linalg.norm(xx - x_mu) / np.linalg.norm(x_mu) for xx in drk_history], label=\"Dual RK\", color=\"black\", linestyle=\"dashed\", linewidth=2)\n",
    "ax2.plot(range(burn_in+1, num_steps+1), [np.linalg.norm(xx - x_mu) / np.linalg.norm(x_mu) for xx in tark_aug_history[burn_in:]], label=\"TARK on (3.2)\", color=rkucolor, linestyle=\"dashdot\", linewidth=2)\n",
    "ax2.plot(range(burn_in+1, num_steps+1), [np.linalg.norm(xx - x_mu) / np.linalg.norm(x_mu) for xx in tark_rr_history[burn_in:]], label=\"TARK-RR\", color=tarkcolor, linewidth=2)\n",
    "ax2.set_xscale(\"log\")\n",
    "ax2.set_yscale(\"log\")\n",
    "ax2.set_xticks(x_ticks)\n",
    "ax2.set_xlabel(\"Rows Accessed\")\n",
    "ax2.set_ylabel(r\"$\\|\\boldsymbol{x}-\\boldsymbol{x}_\\mu\\| / \\|\\boldsymbol{x}_\\mu\\|$\")\n",
    "ax2.legend()\n",
    "\n",
    "# Adjust layout and save the combined figure\n",
    "plt.tight_layout()"
   ]
  }
 ],
 "metadata": {
  "kernelspec": {
   "display_name": "Python 3 (ipykernel)",
   "language": "python",
   "name": "python3"
  },
  "language_info": {
   "codemirror_mode": {
    "name": "ipython",
    "version": 3
   },
   "file_extension": ".py",
   "mimetype": "text/x-python",
   "name": "python",
   "nbconvert_exporter": "python",
   "pygments_lexer": "ipython3",
   "version": "3.12.7"
  }
 },
 "nbformat": 4,
 "nbformat_minor": 5
}
